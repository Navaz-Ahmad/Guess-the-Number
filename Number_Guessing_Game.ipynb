import random  # Import the random module to generate random numbers
import tkinter as tk  # Import the tkinter module for creating the GUI
from tkinter import messagebox  # Import the messagebox module for displaying messages

class GuessTheNumberGame:
    def __init__(self, root):
        self.root = root  # Assign the root window to an instance variable
        self.root.title("Guess The Number")  # Set the title of the window
        
        # Define the lower and upper bounds for the number guessing game
        self.lower_bound = 1
        self.upper_bound = 200
        
        # Set the maximum number of attempts the player has to guess the number
        self.attempts = 15
        
        # Generate a random number between the defined bounds that the player has to guess
        self.number_to_guess = random.randint(self.lower_bound, self.upper_bound)
        
        # Initialize the remaining attempts
        self.remaining_attempts = self.attempts
        
        # GUI Layout: Create and pack the label that instructs the user on what to do
        self.label = tk.Label(root, text=f"Guess a number between {self.lower_bound} and {self.upper_bound}.")
        self.label.pack(pady=10)  # Add padding for spacing
        
        # Create an entry widget for the user to input their guess
        self.entry = tk.Entry(root)
        self.entry.pack(pady=5)  # Add padding for spacing
        
        # Create a button that will submit the user's guess
        self.submit_button = tk.Button(root, text="Submit Guess", command=self.check_guess)
        self.submit_button.pack(pady=5)  # Add padding for spacing
        
        # Create a label to display the result of the guess
        self.result_label = tk.Label(root, text="")
        self.result_label.pack(pady=10)  # Add padding for spacing
        
        # Create a label to display the number of remaining attempts
        self.attempts_label = tk.Label(root, text=f"Remaining attempts: {self.remaining_attempts}")
        self.attempts_label.pack(pady=5)  # Add padding for spacing
        
    def check_guess(self):
        # This method checks if the user's guess is correct, too high, or too low
        try:
            # Get the user's guess from the entry widget and convert it to an integer
            guess = int(self.entry.get())
        except ValueError:
            # Show an error message if the input is not a valid integer
            messagebox.showerror("Invalid input", "Please enter a valid number.")
            return  # Exit the method if the input is invalid
        
        # Check if the guess is within the defined range
        if guess < self.lower_bound or guess > self.upper_bound:
            # Show an error message if the guess is out of range
            messagebox.showerror("Out of range", f"Please guess a number between {self.lower_bound} and {self.upper_bound}.")
            return  # Exit the method if the guess is out of range
        
        # Deduct one from the remaining attempts
        self.remaining_attempts -= 1
        # Update the label to show the remaining attempts
        self.attempts_label.config(text=f"Remaining attempts: {self.remaining_attempts}")
        
        # Compare the guess to the number to guess
        if guess < self.number_to_guess:
            # Inform the user if the guess is too low
            self.result_label.config(text="Too low!")
        elif guess > self.number_to_guess:
            # Inform the user if the guess is too high
            self.result_label.config(text="Too high!")
        else:
            # If the guess is correct, congratulate the user
            messagebox.showinfo("Congratulations!", f"You guessed the number {self.number_to_guess} correctly!")
            # Reset the game for a new round
            self.reset_game()
            return  # Exit the method since the game is reset
        
        # Check if the player has run out of attempts
        if self.remaining_attempts == 0:
            # Inform the user that they are out of attempts and reveal the correct number
            messagebox.showinfo("Game Over", f"Out of attempts! The correct number was {self.number_to_guess}.")
            # Reset the game for a new round
            self.reset_game()

    def reset_game(self):
        # This method resets the game for a new round
        self.number_to_guess = random.randint(self.lower_bound, self.upper_bound)  # Generate a new number to guess
        self.remaining_attempts = self.attempts  # Reset remaining attempts
        self.entry.delete(0, tk.END)  # Clear the entry widget
        self.result_label.config(text="")  # Clear the result label
        self.attempts_label.config(text=f"Remaining attempts: {self.remaining_attempts}")  # Update the attempts label

# Running the game
if __name__ == "__main__":
    root = tk.Tk()  # Create the main window
    game = GuessTheNumberGame(root)  # Create an instance of the game
    root.mainloop()  # Run the main loop to display the GUI
